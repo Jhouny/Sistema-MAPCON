{
 "cells": [
  {
   "cell_type": "code",
   "execution_count": 1,
   "metadata": {},
   "outputs": [],
   "source": [
    "import nlpaug.augmenter.word as naw\n",
    "import nlpaug.augmenter.char as nac\n",
    "from deep_translator import GoogleTranslator\n",
    "import os"
   ]
  },
  {
   "cell_type": "code",
   "execution_count": 4,
   "metadata": {},
   "outputs": [],
   "source": [
    "# Define augmenters\n",
    "synonym_aug = naw.SynonymAug(aug_src='ppdb', \n",
    "                            lang='none', \n",
    "                            model_path=\"D:/Joule/Downloads/ppdb-1.0-xxl-lexical/ppdb-1.0-xxl-lexical\", \n",
    "                            aug_max=None, \n",
    "                            aug_p=0.04,\n",
    "                            )\n",
    "random_aug = nac.RandomCharAug(action=\"insert\", \n",
    "                            aug_word_max=None, \n",
    "                            aug_word_p=0.03,\n",
    "                            aug_char_max=None,\n",
    "                            aug_char_p=0.005,\n",
    "                            swap_mode='middle'\n",
    "                            )\n",
    "\n",
    "# Define translator\n",
    "translatorFR = GoogleTranslator(source='auto', target='fr')\n",
    "translatorPT = GoogleTranslator(source='auto', target='pt')\n",
    "\n",
    "# Define function to translate text to another language and back\n",
    "def translate_aug(text, translatorsrc, translatordest):\n",
    "    translation = translatordest.translate(text)\n",
    "    translation = translatorsrc.translate(translation)\n",
    "    return translation"
   ]
  },
  {
   "cell_type": "code",
   "execution_count": null,
   "metadata": {},
   "outputs": [],
   "source": [
    "# Define function to augment a file\n",
    "def augment_file(file_path):\n",
    "    with open(file_path, 'r', encoding='utf-8') as file:\n",
    "        text_data = file.readlines()\n",
    "\n",
    "    syonym_augmented = synonym_aug.augment(text_data)\n",
    "    translate_augmented = translate_aug(text_data[0], translatorPT, translatorFR)\n",
    "    random_augmented = random_aug.augment(translate_augmented)\n",
    "\n",
    "    return [syonym_augmented, random_augmented]"
   ]
  },
  {
   "cell_type": "code",
   "execution_count": null,
   "metadata": {},
   "outputs": [],
   "source": [
    "# Define function to iterate files in a directory and augment them, while saving the augmented files\n",
    "def augment_directory(directory_path):\n",
    "    for file in os.listdir(directory_path):\n",
    "        if file.endswith(\".txt\"):\n",
    "            augmented_data = augment_file(directory_path + file)\n",
    "            with open(directory_path + file[:-4] + \"_augmented.txt\", 'w', encoding='utf-8') as augmented_file:\n",
    "                for line in augmented_data:\n",
    "                    augmented_file.write(line)"
   ]
  }
 ],
 "metadata": {
  "kernelspec": {
   "display_name": "venv",
   "language": "python",
   "name": "python3"
  },
  "language_info": {
   "codemirror_mode": {
    "name": "ipython",
    "version": 3
   },
   "file_extension": ".py",
   "mimetype": "text/x-python",
   "name": "python",
   "nbconvert_exporter": "python",
   "pygments_lexer": "ipython3",
   "version": "3.11.4"
  }
 },
 "nbformat": 4,
 "nbformat_minor": 2
}
